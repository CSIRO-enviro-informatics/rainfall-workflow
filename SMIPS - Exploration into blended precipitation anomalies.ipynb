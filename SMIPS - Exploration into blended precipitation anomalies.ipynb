{
 "cells": [
  {
   "cell_type": "markdown",
   "metadata": {},
   "source": [
    "# SMIPS: Exploration into blended precipitation anomalies\n",
    "Faulty data - rainfall which is in the unrealistic hundreds and thousands of mm in unlikely locations - has been found in the SMIPS file. The purpose of this exploration is to determine a threshold at which data is determined to be faulty and will not be used in the soil moisture workflow. "
   ]
  },
  {
   "cell_type": "code",
   "execution_count": 25,
   "metadata": {},
   "outputs": [],
   "source": [
    "import settings\n",
    "import os\n",
    "import xarray as xr\n",
    "from netCDF4 import Dataset\n",
    "import numpy as np"
   ]
  },
  {
   "cell_type": "code",
   "execution_count": 2,
   "metadata": {},
   "outputs": [],
   "source": [
    "SMIPS_AGG = '/datasets/work/lw-soildatarepo/work/SMIPSRegrid/SMIPS.nc'\n",
    "sm = xr.open_dataset(SMIPS_AGG, decode_times=False)"
   ]
  },
  {
   "cell_type": "markdown",
   "metadata": {},
   "source": [
    "## For threshold = 1000"
   ]
  },
  {
   "cell_type": "code",
   "execution_count": 57,
   "metadata": {},
   "outputs": [
    {
     "name": "stdout",
     "output_type": "stream",
     "text": [
      "242 4309.75\n",
      "960 1451.3477\n",
      "963 1708.6416\n",
      "971 1091.4648\n",
      "982 2078.33\n",
      "983 1769.6572\n",
      "986 3772.8418\n",
      "987 1265.4395\n",
      "988 2448.6348\n",
      "991 1271.7578\n",
      "1000 1596.3242\n",
      "1002 1277.292\n",
      "1006 21470.254\n",
      "1007 23596.21\n",
      "1008 6483.498\n",
      "1013 5774.2803\n",
      "1016 1696.0947\n",
      "1035 5797.16\n",
      "18\n"
     ]
    }
   ],
   "source": [
    "ms = []\n",
    "for time in range(sm.time.size):\n",
    "    m = np.nanmax(sm.blended_precipitation.values[time])\n",
    "    if m > 1000:\n",
    "        print(time, np.nanmax(sm.blended_precipitation.values[time]))\n",
    "        ms.append([time, np.nanmax(sm.blended_precipitation.values[time])])\n",
    "print(len(ms))"
   ]
  },
  {
   "cell_type": "markdown",
   "metadata": {},
   "source": [
    "Originally there were 19, 18 is appropriate because the data from 911 has been deleted.  \n",
    "\n",
    "However, it doesn't catch 981. But does catch 960 which I (manually) didn't.\n",
    "\n",
    "Decrease the threshold to catch 981.\n",
    "\n",
    "\n",
    "## For threshold = 900"
   ]
  },
  {
   "cell_type": "code",
   "execution_count": 58,
   "metadata": {},
   "outputs": [
    {
     "name": "stdout",
     "output_type": "stream",
     "text": [
      "242 4309.75\n",
      "960 1451.3477\n",
      "963 1708.6416\n",
      "971 1091.4648\n",
      "981 993.29395\n",
      "982 2078.33\n",
      "983 1769.6572\n",
      "986 3772.8418\n",
      "987 1265.4395\n",
      "988 2448.6348\n",
      "991 1271.7578\n",
      "1000 1596.3242\n",
      "1002 1277.292\n",
      "1006 21470.254\n",
      "1007 23596.21\n",
      "1008 6483.498\n",
      "1013 5774.2803\n",
      "1016 1696.0947\n",
      "1035 5797.16\n",
      "19\n"
     ]
    }
   ],
   "source": [
    "ms2 = []\n",
    "for time in range(sm.time.size):\n",
    "    m = np.nanmax(sm.blended_precipitation.values[time])\n",
    "    if m > 900:\n",
    "        print(time, np.nanmax(sm.blended_precipitation.values[time]))\n",
    "        ms2.append([time, np.nanmax(sm.blended_precipitation.values[time])])\n",
    "print(len(ms2))"
   ]
  },
  {
   "cell_type": "markdown",
   "metadata": {},
   "source": [
    "Catches all known bad values. However, this isn't a great method of doing it because 900 could be a real value of rainfall - an extreme. \n",
    "\n",
    "## Exploration"
   ]
  },
  {
   "cell_type": "code",
   "execution_count": 93,
   "metadata": {},
   "outputs": [],
   "source": [
    "rainmax = []\n",
    "for time in range(sm.time.size):\n",
    "    m = np.nanmax(sm.blended_precipitation.values[time])\n",
    "    rainmax.append(np.nanmax(sm.blended_precipitation.values[time]))"
   ]
  },
  {
   "cell_type": "code",
   "execution_count": 94,
   "metadata": {},
   "outputs": [],
   "source": [
    "import matplotlib.pyplot as plt\n",
    "%matplotlib inline"
   ]
  },
  {
   "cell_type": "code",
   "execution_count": 95,
   "metadata": {},
   "outputs": [
    {
     "data": {
      "text/plain": [
       "[<matplotlib.lines.Line2D at 0x7fbe5c74a8d0>]"
      ]
     },
     "execution_count": 95,
     "metadata": {},
     "output_type": "execute_result"
    },
    {
     "data": {
      "image/png": "[encoded data removed]",
      "text/plain": [
       "<Figure size 432x288 with 1 Axes>"
      ]
     },
     "metadata": {
      "needs_background": "light"
     },
     "output_type": "display_data"
    }
   ],
   "source": [
    "plt.xlabel('time')\n",
    "plt.ylabel('rainfall (mm)')\n",
    "plt.plot(rainmax)"
   ]
  },
  {
   "cell_type": "code",
   "execution_count": 107,
   "metadata": {},
   "outputs": [
    {
     "name": "stdout",
     "output_type": "stream",
     "text": [
      "0 23596.21\n",
      "1 21470.254\n",
      "2 6483.498\n",
      "3 5797.16\n",
      "4 5774.2803\n",
      "5 4309.75\n",
      "6 3772.8418\n",
      "7 2448.6348\n",
      "8 2078.33\n",
      "9 1769.6572\n",
      "10 1708.6416\n",
      "11 1696.0947\n",
      "12 1596.3242\n",
      "13 1451.3477\n",
      "14 1277.292\n",
      "15 1271.7578\n",
      "16 1265.4395\n",
      "17 1091.4648\n",
      "18 993.29395\n",
      "19 576.7803\n",
      "20 406.0791\n",
      "21 377.3584\n",
      "22 376.59668\n",
      "23 361.84082\n",
      "24 359.00684\n",
      "25 357.70117\n",
      "26 356.16797\n",
      "27 345.68555\n",
      "28 338.69238\n",
      "29 331.95117\n"
     ]
    },
    {
     "data": {
      "text/plain": [
       "[<matplotlib.lines.Line2D at 0x7fbe5c5520b8>]"
      ]
     },
     "execution_count": 107,
     "metadata": {},
     "output_type": "execute_result"
    },
    {
     "data": {
      "image/png": "[encoded data removed]",
      "text/plain": [
       "<Figure size 432x288 with 1 Axes>"
      ]
     },
     "metadata": {
      "needs_background": "light"
     },
     "output_type": "display_data"
    }
   ],
   "source": [
    "rainsorted = -np.sort(-np.array(rainmax))\n",
    "for i in range(30):\n",
    "    print(i, rainsorted[i])\n",
    "plt.plot(rainsorted[:50])"
   ]
  },
  {
   "cell_type": "markdown",
   "metadata": {},
   "source": [
    "Going to choose the limit of 900, as it fits the data, and the issue was old so it may not come up again in new data. \n",
    "\n",
    "Reference: bom.gov.au/water/designRainfalls/rainfallEvents/ausRecordRainfall.shtml\n",
    "\n",
    "I think it would be impossible for it to rain more than 900mm in one day. The records in the reference sometimes stretch over many days -- keep that in the calculations while comparing. "
   ]
  }
 ],
 "metadata": {
  "kernelspec": {
   "display_name": "Python 3",
   "language": "python",
   "name": "python3"
  },
  "language_info": {
   "codemirror_mode": {
    "name": "ipython",
    "version": 3
   },
   "file_extension": ".py",
   "mimetype": "text/x-python",
   "name": "python",
   "nbconvert_exporter": "python",
   "pygments_lexer": "ipython3",
   "version": "3.6.8"
  }
 },
 "nbformat": 4,
 "nbformat_minor": 2
}
