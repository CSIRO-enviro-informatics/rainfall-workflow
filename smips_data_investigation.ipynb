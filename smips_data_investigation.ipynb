{
 "cells": [
  {
   "cell_type": "code",
   "execution_count": 1,
   "metadata": {},
   "outputs": [
    {
     "name": "stderr",
     "output_type": "stream",
     "text": [
      "C:\\Users\\AND522\\AppData\\Local\\Continuum\\anaconda3\\lib\\site-packages\\dask\\config.py:168: YAMLLoadWarning: calling yaml.load() without Loader=... is deprecated, as the default Loader is unsafe. Please read https://msg.pyyaml.org/load for full details.\n",
      "  data = yaml.load(f.read()) or {}\n",
      "C:\\Users\\AND522\\AppData\\Local\\Continuum\\anaconda3\\lib\\site-packages\\distributed\\config.py:20: YAMLLoadWarning: calling yaml.load() without Loader=... is deprecated, as the default Loader is unsafe. Please read https://msg.pyyaml.org/load for full details.\n",
      "  defaults = yaml.load(f)\n"
     ]
    }
   ],
   "source": [
    "import xarray as xr\n",
    "import numpy as np\n",
    "import pandas as pd\n",
    "import matplotlib.pyplot as plt"
   ]
  },
  {
   "cell_type": "code",
   "execution_count": 2,
   "metadata": {},
   "outputs": [],
   "source": [
    "path = '\\\\\\osm-12-cdc.it.csiro.au\\\\OSM_CBR_LW_SATSOILMOIST_processed\\\\SMIPSv0.5\\\\thredds\\\\public\\\\SMIPS\\\\'\n",
    "smips_file = 'SMIPSv0.5.nc'"
   ]
  },
  {
   "cell_type": "code",
   "execution_count": 3,
   "metadata": {},
   "outputs": [
    {
     "data": {
      "text/plain": [
       "<xarray.Dataset>\n",
       "Dimensions:                                (lat: 3474, lon: 4110, time: 1311)\n",
       "Coordinates:\n",
       "  * lon                                    (lon) float32 112.905 ... 153.995\n",
       "  * lat                                    (lat) float32 -9.005 ... -43.735\n",
       "  * time                                   (time) datetime64[ns] 2015-11-20 ... 2019-06-22\n",
       "Data variables:\n",
       "    Openloop Wetness Index                 (time, lat, lon) float32 dask.array<shape=(1311, 3474, 4110), chunksize=(1311, 3474, 4110)>\n",
       "    Openloop Wetness Index Error Variance  (time, lat, lon) float32 dask.array<shape=(1311, 3474, 4110), chunksize=(1311, 3474, 4110)>\n",
       "    Blended Precipitation                  (time, lat, lon) float32 dask.array<shape=(1311, 3474, 4110), chunksize=(1311, 3474, 4110)>\n",
       "    Openloop Volumetric SM                 (time, lat, lon) float32 dask.array<shape=(1311, 3474, 4110), chunksize=(1311, 3474, 4110)>\n",
       "    Openloop Volumetric SM Error Variance  (time, lat, lon) float32 dask.array<shape=(1311, 3474, 4110), chunksize=(1311, 3474, 4110)>\n",
       "    Analysis Wetness Index                 (time, lat, lon) float32 dask.array<shape=(1311, 3474, 4110), chunksize=(1311, 3474, 4110)>\n",
       "    Analysis Wetness Index Error Variance  (time, lat, lon) float32 dask.array<shape=(1311, 3474, 4110), chunksize=(1311, 3474, 4110)>\n",
       "    Analysis Volumetric SM                 (time, lat, lon) float32 dask.array<shape=(1311, 3474, 4110), chunksize=(1311, 3474, 4110)>\n",
       "    Analysis Volumetric SM Error Variance  (time, lat, lon) float32 dask.array<shape=(1311, 3474, 4110), chunksize=(1311, 3474, 4110)>\n",
       "Attributes:\n",
       "    description:  SMIPS Daily Outputs\n",
       "    history:      Created 2018-09-06T15:02:42.759150"
      ]
     },
     "execution_count": 3,
     "metadata": {},
     "output_type": "execute_result"
    }
   ],
   "source": [
    "smips = xr.open_mfdataset(path+smips_file)\n",
    "smips"
   ]
  },
  {
   "cell_type": "code",
   "execution_count": 4,
   "metadata": {},
   "outputs": [
    {
     "data": {
      "text/plain": [
       "(array(-9.005, dtype=float32),\n",
       " array(-9.015, dtype=float32),\n",
       " array(112.905, dtype=float32),\n",
       " array(112.915, dtype=float32))"
      ]
     },
     "execution_count": 4,
     "metadata": {},
     "output_type": "execute_result"
    }
   ],
   "source": [
    "smips['lat'][0].values, smips['lat'][1].values, smips['lon'][0].values, smips['lon'][1].values"
   ]
  },
  {
   "cell_type": "markdown",
   "metadata": {},
   "source": [
    "Locations are or dimensions 0.01 x 0.01 degrees, which is about 1.1 km square grid."
   ]
  },
  {
   "cell_type": "code",
   "execution_count": 5,
   "metadata": {},
   "outputs": [],
   "source": [
    "from geopy import distance\n",
    "\n",
    "def geographical_dist(coord1, coord2):\n",
    "    return distance.distance(coord1, coord2)"
   ]
  },
  {
   "cell_type": "code",
   "execution_count": 12,
   "metadata": {},
   "outputs": [
    {
     "name": "stdout",
     "output_type": "stream",
     "text": [
      "1.1060404473750174 km\n",
      "1.0997994924245247 km\n"
     ]
    }
   ],
   "source": [
    "point1 = smips.lat.values[0], smips.lon.values[0]\n",
    "point2 = smips.lat.values[1], smips.lon.values[0]\n",
    "point3 = smips.lat.values[0], smips.lon.values[0]\n",
    "point4 = smips.lat.values[0], smips.lon.values[1]\n",
    "\n",
    "print(geographical_dist(point1, point2))\n",
    "print(geographical_dist(point3, point4))"
   ]
  },
  {
   "cell_type": "code",
   "execution_count": 13,
   "metadata": {},
   "outputs": [
    {
     "name": "stdout",
     "output_type": "stream",
     "text": [
      "1.111307065704158 km\n",
      "0.8051806389136749 km\n"
     ]
    }
   ],
   "source": [
    "point5 = smips.lat.values[-1], smips.lon.values[-1]\n",
    "point6 = smips.lat.values[-2], smips.lon.values[-1]\n",
    "point7 = smips.lat.values[-1], smips.lon.values[-1]\n",
    "point8 = smips.lat.values[-1], smips.lon.values[-2]\n",
    "\n",
    "print(geographical_dist(point5, point6))\n",
    "print(geographical_dist(point7, point8))"
   ]
  },
  {
   "cell_type": "code",
   "execution_count": 11,
   "metadata": {},
   "outputs": [
    {
     "data": {
      "text/plain": [
       "(1.2164227226240383, 0.8948029331929551)"
      ]
     },
     "execution_count": 11,
     "metadata": {},
     "output_type": "execute_result"
    }
   ],
   "source": [
    "1.1060404473750174 * 1.0997994924245247, 1.111307065704158 * 0.8051806389136749"
   ]
  },
  {
   "cell_type": "code",
   "execution_count": 15,
   "metadata": {},
   "outputs": [
    {
     "name": "stdout",
     "output_type": "stream",
     "text": [
      "(-9.005, 112.905) (-43.735, 153.995)\n"
     ]
    }
   ],
   "source": [
    "print(point1, point5)"
   ]
  },
  {
   "cell_type": "code",
   "execution_count": null,
   "metadata": {},
   "outputs": [],
   "source": []
  }
 ],
 "metadata": {
  "kernelspec": {
   "display_name": "Python 3",
   "language": "python",
   "name": "python3"
  },
  "language_info": {
   "codemirror_mode": {
    "name": "ipython",
    "version": 3
   },
   "file_extension": ".py",
   "mimetype": "text/x-python",
   "name": "python",
   "nbconvert_exporter": "python",
   "pygments_lexer": "ipython3",
   "version": "3.6.8"
  }
 },
 "nbformat": 4,
 "nbformat_minor": 2
}
