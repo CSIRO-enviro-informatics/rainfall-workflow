{
 "cells": [
  {
   "cell_type": "code",
   "execution_count": 125,
   "metadata": {},
   "outputs": [],
   "source": [
    "import xarray as xr\n",
    "import numpy as np\n",
    "import pandas as pd\n",
    "import matplotlib.pyplot as plt"
   ]
  },
  {
   "cell_type": "code",
   "execution_count": 126,
   "metadata": {},
   "outputs": [],
   "source": [
    "file_path = 'C:\\\\Users\\\\AND522\\\\Documents\\\\MyJabberFiles\\\\sch537@csiro.au\\\\'\n",
    "file_name = 'ACCESS_G_accum_prcp_fc_2016031600.nc'"
   ]
  },
  {
   "cell_type": "code",
   "execution_count": 127,
   "metadata": {},
   "outputs": [
    {
     "data": {
      "text/plain": [
       "<xarray.Dataset>\n",
       "Dimensions:       (lat: 154, lon: 137, time: 240)\n",
       "Coordinates:\n",
       "  * lat           (lat) float32 -9.140625 -9.375 -9.609375 ... -44.765625 -45.0\n",
       "  * lon           (lon) float32 110.03906 110.390625 ... 157.5 157.85156\n",
       "  * time          (time) datetime64[ns] 2016-03-16T01:00:00 ... 2016-03-26\n",
       "Data variables:\n",
       "    accum_prcp    (time, lat, lon) float32 dask.array<shape=(240, 154, 137), chunksize=(240, 154, 137)>\n",
       "    base_date     (time) int32 dask.array<shape=(240,), chunksize=(240,)>\n",
       "    base_time     (time) int32 dask.array<shape=(240,), chunksize=(240,)>\n",
       "    forc_minutes  (time) timedelta64[ns] dask.array<shape=(240,), chunksize=(240,)>\n",
       "    seg_type      (time) |S4 dask.array<shape=(240,), chunksize=(240,)>\n",
       "    valid_date    (time) int32 dask.array<shape=(240,), chunksize=(240,)>\n",
       "    valid_time    (time) int32 dask.array<shape=(240,), chunksize=(240,)>\n",
       "    wrtn_date     (time) int32 dask.array<shape=(240,), chunksize=(240,)>\n",
       "    wrtn_time     (time) int32 dask.array<shape=(240,), chunksize=(240,)>\n",
       "Attributes:\n",
       "    Conventions:   CF-1.5,ACDD-1.3\n",
       "    institution:   Australian Bureau of Meteorology\n",
       "    source:        APS2\n",
       "    date_created:  20170518\n",
       "    summary:       forecast data\n",
       "    title:         forecast data\n",
       "    base_date:     20160316\n",
       "    base_time:     0\n",
       "    modl_vrsn:     ACCESS-G\n",
       "    expt_id:       0001\n",
       "    history:       Wed Aug 22 13:11:11 2018: ncks -d lon,110.0,158.0 -d lat,-...\n",
       "    NCO:           \"4.6.1\""
      ]
     },
     "execution_count": 127,
     "metadata": {},
     "output_type": "execute_result"
    }
   ],
   "source": [
    "#open netcdf file \n",
    "data = xr.open_mfdataset(file_path+file_name)\n",
    "#display netcdf file metadata\n",
    "data"
   ]
  },
  {
   "cell_type": "code",
   "execution_count": 128,
   "metadata": {},
   "outputs": [
    {
     "data": {
      "text/plain": [
       "<xarray.DataArray 'time' (time: 240)>\n",
       "array(['2016-03-16T01:00:00.000000000', '2016-03-16T02:00:00.000000000',\n",
       "       '2016-03-16T03:00:00.000000000', ..., '2016-03-25T22:00:00.000000000',\n",
       "       '2016-03-25T23:00:00.000000000', '2016-03-26T00:00:00.000000000'],\n",
       "      dtype='datetime64[ns]')\n",
       "Coordinates:\n",
       "  * time     (time) datetime64[ns] 2016-03-16T01:00:00 ... 2016-03-26\n",
       "Attributes:\n",
       "    long_name:      time\n",
       "    standard_name:  time\n",
       "    axis:           T"
      ]
     },
     "execution_count": 128,
     "metadata": {},
     "output_type": "execute_result"
    }
   ],
   "source": [
    "#select subset of the data and display\n",
    "data['time']"
   ]
  },
  {
   "cell_type": "code",
   "execution_count": 129,
   "metadata": {},
   "outputs": [],
   "source": [
    "grid = data.sel(lat=-30, lon=130, method='nearest')"
   ]
  },
  {
   "cell_type": "code",
   "execution_count": 130,
   "metadata": {},
   "outputs": [
    {
     "data": {
      "text/plain": [
       "<xarray.DataArray 'accum_prcp' (time: 240)>\n",
       "dask.array<shape=(240,), dtype=float32, chunksize=(240,)>\n",
       "Coordinates:\n",
       "    lat      float32 -30.0\n",
       "    lon      float32 130.07812\n",
       "  * time     (time) datetime64[ns] 2016-03-16T01:00:00 ... 2016-03-26\n",
       "Attributes:\n",
       "    grid_type:    spatial\n",
       "    level_type:   single\n",
       "    units:        kg m-2\n",
       "    long_name:    accumulated precipitation\n",
       "    stash_code:   5226\n",
       "    accum_type:   accumulative\n",
       "    accum_units:  hrs\n",
       "    accum_value:  4"
      ]
     },
     "execution_count": 130,
     "metadata": {},
     "output_type": "execute_result"
    }
   ],
   "source": [
    "grid['accum_prcp']"
   ]
  },
  {
   "cell_type": "code",
   "execution_count": 131,
   "metadata": {},
   "outputs": [
    {
     "data": {
      "image/png": "[encoded data removed]",
      "text/plain": [
       "<Figure size 432x288 with 1 Axes>"
      ]
     },
     "metadata": {
      "needs_background": "light"
     },
     "output_type": "display_data"
    }
   ],
   "source": [
    "plt.plot(grid['accum_prcp'])\n",
    "plt.xlabel('time')\n",
    "plt.ylabel('precipitation')\n",
    "plt.show()"
   ]
  },
  {
   "cell_type": "code",
   "execution_count": 132,
   "metadata": {
    "scrolled": true
   },
   "outputs": [
    {
     "data": {
      "text/plain": [
       "<xarray.Dataset>\n",
       "Dimensions:       (time: 240)\n",
       "Coordinates:\n",
       "    lat           float32 -30.0\n",
       "    lon           float32 130.07812\n",
       "  * time          (time) datetime64[ns] 2016-03-16T01:00:00 ... 2016-03-26\n",
       "Data variables:\n",
       "    accum_prcp    (time) float32 dask.array<shape=(240,), chunksize=(240,)>\n",
       "    base_date     (time) int32 dask.array<shape=(240,), chunksize=(240,)>\n",
       "    base_time     (time) int32 dask.array<shape=(240,), chunksize=(240,)>\n",
       "    forc_minutes  (time) timedelta64[ns] dask.array<shape=(240,), chunksize=(240,)>\n",
       "    seg_type      (time) |S4 dask.array<shape=(240,), chunksize=(240,)>\n",
       "    valid_date    (time) int32 dask.array<shape=(240,), chunksize=(240,)>\n",
       "    valid_time    (time) int32 dask.array<shape=(240,), chunksize=(240,)>\n",
       "    wrtn_date     (time) int32 dask.array<shape=(240,), chunksize=(240,)>\n",
       "    wrtn_time     (time) int32 dask.array<shape=(240,), chunksize=(240,)>\n",
       "Attributes:\n",
       "    Conventions:   CF-1.5,ACDD-1.3\n",
       "    institution:   Australian Bureau of Meteorology\n",
       "    source:        APS2\n",
       "    date_created:  20170518\n",
       "    summary:       forecast data\n",
       "    title:         forecast data\n",
       "    base_date:     20160316\n",
       "    base_time:     0\n",
       "    modl_vrsn:     ACCESS-G\n",
       "    expt_id:       0001\n",
       "    history:       Wed Aug 22 13:11:11 2018: ncks -d lon,110.0,158.0 -d lat,-...\n",
       "    NCO:           \"4.6.1\""
      ]
     },
     "execution_count": 132,
     "metadata": {},
     "output_type": "execute_result"
    }
   ],
   "source": [
    "grid"
   ]
  },
  {
   "cell_type": "code",
   "execution_count": 133,
   "metadata": {},
   "outputs": [
    {
     "data": {
      "image/png": "[encoded data removed]",
      "text/plain": [
       "<Figure size 432x288 with 1 Axes>"
      ]
     },
     "metadata": {
      "needs_background": "light"
     },
     "output_type": "display_data"
    }
   ],
   "source": [
    "plt.plot(grid['time'])\n",
    "plt.show()\n",
    "# about 250 time points over 10 days (for each location)"
   ]
  },
  {
   "cell_type": "code",
   "execution_count": 134,
   "metadata": {},
   "outputs": [
    {
     "data": {
      "text/plain": [
       "<xarray.Dataset>\n",
       "Dimensions:       (time: 24)\n",
       "Coordinates:\n",
       "    lat           float32 -30.0\n",
       "    lon           float32 130.07812\n",
       "  * time          (time) datetime64[ns] 2016-03-20 ... 2016-03-20T23:00:00\n",
       "Data variables:\n",
       "    accum_prcp    (time) float32 dask.array<shape=(24,), chunksize=(24,)>\n",
       "    base_date     (time) int32 dask.array<shape=(24,), chunksize=(24,)>\n",
       "    base_time     (time) int32 dask.array<shape=(24,), chunksize=(24,)>\n",
       "    forc_minutes  (time) timedelta64[ns] dask.array<shape=(24,), chunksize=(24,)>\n",
       "    seg_type      (time) |S4 dask.array<shape=(24,), chunksize=(24,)>\n",
       "    valid_date    (time) int32 dask.array<shape=(24,), chunksize=(24,)>\n",
       "    valid_time    (time) int32 dask.array<shape=(24,), chunksize=(24,)>\n",
       "    wrtn_date     (time) int32 dask.array<shape=(24,), chunksize=(24,)>\n",
       "    wrtn_time     (time) int32 dask.array<shape=(24,), chunksize=(24,)>\n",
       "Attributes:\n",
       "    Conventions:   CF-1.5,ACDD-1.3\n",
       "    institution:   Australian Bureau of Meteorology\n",
       "    source:        APS2\n",
       "    date_created:  20170518\n",
       "    summary:       forecast data\n",
       "    title:         forecast data\n",
       "    base_date:     20160316\n",
       "    base_time:     0\n",
       "    modl_vrsn:     ACCESS-G\n",
       "    expt_id:       0001\n",
       "    history:       Wed Aug 22 13:11:11 2018: ncks -d lon,110.0,158.0 -d lat,-...\n",
       "    NCO:           \"4.6.1\""
      ]
     },
     "execution_count": 134,
     "metadata": {},
     "output_type": "execute_result"
    }
   ],
   "source": [
    "day = grid.sel(time='2016-03-20')\n",
    "day"
   ]
  },
  {
   "cell_type": "code",
   "execution_count": 135,
   "metadata": {},
   "outputs": [
    {
     "data": {
      "text/plain": [
       "[<matplotlib.lines.Line2D at 0x1c1027a8470>]"
      ]
     },
     "execution_count": 135,
     "metadata": {},
     "output_type": "execute_result"
    },
    {
     "data": {
      "image/png": "[encoded data removed]",
      "text/plain": [
       "<Figure size 432x288 with 1 Axes>"
      ]
     },
     "metadata": {
      "needs_background": "light"
     },
     "output_type": "display_data"
    }
   ],
   "source": [
    "plt.plot(day['accum_prcp'], day['time'])"
   ]
  },
  {
   "cell_type": "code",
   "execution_count": 136,
   "metadata": {},
   "outputs": [
    {
     "name": "stdout",
     "output_type": "stream",
     "text": [
      "[16.886536 18.420593 19.890015 22.11914  26.099487 26.633606 29.037476\n",
      " 31.06836  31.077698 31.488098 32.792725 33.342102 33.35431  33.368042\n",
      " 33.373657 33.376038 33.376892 33.377136 33.377197 33.37726  33.37738\n",
      " 33.37744  33.377625 33.377808]\n"
     ]
    }
   ],
   "source": [
    "print(day['accum_prcp'].values)"
   ]
  },
  {
   "cell_type": "code",
   "execution_count": 137,
   "metadata": {},
   "outputs": [
    {
     "data": {
      "text/plain": [
       "16.491272"
      ]
     },
     "execution_count": 137,
     "metadata": {},
     "output_type": "execute_result"
    }
   ],
   "source": [
    "day_prcp = day['accum_prcp'].values[-1] - day['accum_prcp'].values[0]\n",
    "day_prcp"
   ]
  },
  {
   "cell_type": "code",
   "execution_count": 138,
   "metadata": {},
   "outputs": [],
   "source": [
    "def dates_from_datetimes(data):\n",
    "    datetimes = pd.to_datetime(data['time'].values)\n",
    "    dates = set([day.date() for day in datetimes])\n",
    "    return dates\n",
    "\n",
    "dates = dates_from_datetimes(grid)"
   ]
  },
  {
   "cell_type": "code",
   "execution_count": 139,
   "metadata": {},
   "outputs": [
    {
     "data": {
      "text/plain": [
       "11"
      ]
     },
     "execution_count": 139,
     "metadata": {},
     "output_type": "execute_result"
    }
   ],
   "source": [
    "len(dates)"
   ]
  },
  {
   "cell_type": "code",
   "execution_count": 140,
   "metadata": {},
   "outputs": [],
   "source": [
    "def find_daily_prcp(days):\n",
    "    daily_prcp = pd.DataFrame(columns=['date', 'prcp'])\n",
    "\n",
    "    for date in days:\n",
    "        day = grid.sel(time=str(date))\n",
    "        #print(day['accum_prcp'].values, date)\n",
    "        day_prcp = day['accum_prcp'].values[-1] - day['accum_prcp'].values[0]\n",
    "        daily_prcp = daily_prcp.append({'date':date, 'prcp':day_prcp}, ignore_index=True) \n",
    "   \n",
    "    return daily_prcp \n",
    "\n",
    "daily_prcp = find_daily_prcp(dates)"
   ]
  },
  {
   "cell_type": "code",
   "execution_count": 141,
   "metadata": {},
   "outputs": [
    {
     "data": {
      "text/html": [
       "<div>\n",
       "<style scoped>\n",
       "    .dataframe tbody tr th:only-of-type {\n",
       "        vertical-align: middle;\n",
       "    }\n",
       "\n",
       "    .dataframe tbody tr th {\n",
       "        vertical-align: top;\n",
       "    }\n",
       "\n",
       "    .dataframe thead th {\n",
       "        text-align: right;\n",
       "    }\n",
       "</style>\n",
       "<table border=\"1\" class=\"dataframe\">\n",
       "  <thead>\n",
       "    <tr style=\"text-align: right;\">\n",
       "      <th></th>\n",
       "      <th>date</th>\n",
       "      <th>prcp</th>\n",
       "    </tr>\n",
       "  </thead>\n",
       "  <tbody>\n",
       "    <tr>\n",
       "      <th>4</th>\n",
       "      <td>2016-03-16</td>\n",
       "      <td>10.415634</td>\n",
       "    </tr>\n",
       "    <tr>\n",
       "      <th>1</th>\n",
       "      <td>2016-03-17</td>\n",
       "      <td>4.329285</td>\n",
       "    </tr>\n",
       "    <tr>\n",
       "      <th>6</th>\n",
       "      <td>2016-03-18</td>\n",
       "      <td>0.009232</td>\n",
       "    </tr>\n",
       "    <tr>\n",
       "      <th>9</th>\n",
       "      <td>2016-03-19</td>\n",
       "      <td>0.026581</td>\n",
       "    </tr>\n",
       "    <tr>\n",
       "      <th>3</th>\n",
       "      <td>2016-03-20</td>\n",
       "      <td>16.491272</td>\n",
       "    </tr>\n",
       "    <tr>\n",
       "      <th>5</th>\n",
       "      <td>2016-03-21</td>\n",
       "      <td>8.328735</td>\n",
       "    </tr>\n",
       "    <tr>\n",
       "      <th>10</th>\n",
       "      <td>2016-03-22</td>\n",
       "      <td>2.894714</td>\n",
       "    </tr>\n",
       "    <tr>\n",
       "      <th>7</th>\n",
       "      <td>2016-03-23</td>\n",
       "      <td>1.009583</td>\n",
       "    </tr>\n",
       "    <tr>\n",
       "      <th>8</th>\n",
       "      <td>2016-03-24</td>\n",
       "      <td>1.497681</td>\n",
       "    </tr>\n",
       "    <tr>\n",
       "      <th>0</th>\n",
       "      <td>2016-03-25</td>\n",
       "      <td>0.000305</td>\n",
       "    </tr>\n",
       "    <tr>\n",
       "      <th>2</th>\n",
       "      <td>2016-03-26</td>\n",
       "      <td>0.000000</td>\n",
       "    </tr>\n",
       "  </tbody>\n",
       "</table>\n",
       "</div>"
      ],
      "text/plain": [
       "          date       prcp\n",
       "4   2016-03-16  10.415634\n",
       "1   2016-03-17   4.329285\n",
       "6   2016-03-18   0.009232\n",
       "9   2016-03-19   0.026581\n",
       "3   2016-03-20  16.491272\n",
       "5   2016-03-21   8.328735\n",
       "10  2016-03-22   2.894714\n",
       "7   2016-03-23   1.009583\n",
       "8   2016-03-24   1.497681\n",
       "0   2016-03-25   0.000305\n",
       "2   2016-03-26   0.000000"
      ]
     },
     "execution_count": 141,
     "metadata": {},
     "output_type": "execute_result"
    }
   ],
   "source": [
    "daily_prcp = daily_prcp.sort_values(by=['date'])\n",
    "daily_prcp"
   ]
  },
  {
   "cell_type": "code",
   "execution_count": 142,
   "metadata": {},
   "outputs": [
    {
     "data": {
      "text/plain": [
       "<function matplotlib.pyplot.show(*args, **kw)>"
      ]
     },
     "execution_count": 142,
     "metadata": {},
     "output_type": "execute_result"
    },
    {
     "data": {
      "image/png": "[encoded data removed]",
      "text/plain": [
       "<Figure size 432x288 with 1 Axes>"
      ]
     },
     "metadata": {
      "needs_background": "light"
     },
     "output_type": "display_data"
    }
   ],
   "source": [
    "plt.plot(daily_prcp['date'], daily_prcp['prcp'])\n",
    "plt.ylabel('precipitation')\n",
    "plt.xlabel('day')\n",
    "plt.show"
   ]
  },
  {
   "cell_type": "code",
   "execution_count": null,
   "metadata": {},
   "outputs": [],
   "source": []
  },
  {
   "cell_type": "code",
   "execution_count": null,
   "metadata": {},
   "outputs": [],
   "source": []
  }
 ],
 "metadata": {
  "kernelspec": {
   "display_name": "Python 3",
   "language": "python",
   "name": "python3"
  },
  "language_info": {
   "codemirror_mode": {
    "name": "ipython",
    "version": 3
   },
   "file_extension": ".py",
   "mimetype": "text/x-python",
   "name": "python",
   "nbconvert_exporter": "python",
   "pygments_lexer": "ipython3",
   "version": "3.6.8"
  }
 },
 "nbformat": 4,
 "nbformat_minor": 1
}
