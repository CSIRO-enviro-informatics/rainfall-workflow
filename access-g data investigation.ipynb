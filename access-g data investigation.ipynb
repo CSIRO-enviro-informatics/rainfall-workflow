{
 "cells": [
  {
   "cell_type": "markdown",
   "metadata": {},
   "source": [
    "# ACCESS-G Data Investigation"
   ]
  },
  {
   "cell_type": "code",
   "execution_count": 1,
   "metadata": {
    "scrolled": true
   },
   "outputs": [
    {
     "name": "stderr",
     "output_type": "stream",
     "text": [
      "C:\\Users\\AND522\\AppData\\Local\\Continuum\\anaconda3\\lib\\site-packages\\dask\\config.py:168: YAMLLoadWarning: calling yaml.load() without Loader=... is deprecated, as the default Loader is unsafe. Please read https://msg.pyyaml.org/load for full details.\n",
      "  data = yaml.load(f.read()) or {}\n",
      "C:\\Users\\AND522\\AppData\\Local\\Continuum\\anaconda3\\lib\\site-packages\\distributed\\config.py:20: YAMLLoadWarning: calling yaml.load() without Loader=... is deprecated, as the default Loader is unsafe. Please read https://msg.pyyaml.org/load for full details.\n",
      "  defaults = yaml.load(f)\n"
     ]
    }
   ],
   "source": [
    "import xarray as xr\n",
    "import numpy as np\n",
    "import pandas as pd\n",
    "import matplotlib.pyplot as plt"
   ]
  },
  {
   "cell_type": "code",
   "execution_count": 2,
   "metadata": {},
   "outputs": [],
   "source": [
    "file_path = '\\\\\\\\osm-12-cdc.it.csiro.au\\\\OSM_CBR_LW_SATSOILMOIST_source\\\\BOM-ACCESS-G\\\\ACCESS_G_00z\\\\2019\\\\'\n",
    "file_name = 'ACCESS_G_accum_prcp_fc_2019062112.nc'"
   ]
  },
  {
   "cell_type": "code",
   "execution_count": 3,
   "metadata": {},
   "outputs": [],
   "source": [
    "data = xr.open_mfdataset(file_path+file_name)"
   ]
  },
  {
   "cell_type": "code",
   "execution_count": 4,
   "metadata": {
    "scrolled": false
   },
   "outputs": [
    {
     "data": {
      "text/plain": [
       "<xarray.Dataset>\n",
       "Dimensions:       (lat: 154, lon: 136, time: 240)\n",
       "Coordinates:\n",
       "  * time          (time) datetime64[ns] 2019-06-21T13:00:00 ... 2019-07-01T12:00:00\n",
       "  * lat           (lat) float32 -9.140625 -9.375 -9.609375 ... -44.765625 -45.0\n",
       "  * lon           (lon) float32 110.03906 110.390625 ... 157.14844 157.5\n",
       "Data variables:\n",
       "    seg_type      (time) |S4 dask.array<shape=(240,), chunksize=(240,)>\n",
       "    base_date     (time) int32 dask.array<shape=(240,), chunksize=(240,)>\n",
       "    base_time     (time) int32 dask.array<shape=(240,), chunksize=(240,)>\n",
       "    valid_date    (time) int32 dask.array<shape=(240,), chunksize=(240,)>\n",
       "    valid_time    (time) int32 dask.array<shape=(240,), chunksize=(240,)>\n",
       "    forc_minutes  (time) timedelta64[ns] dask.array<shape=(240,), chunksize=(240,)>\n",
       "    wrtn_date     (time) int32 dask.array<shape=(240,), chunksize=(240,)>\n",
       "    wrtn_time     (time) int32 dask.array<shape=(240,), chunksize=(240,)>\n",
       "    accum_prcp    (time, lat, lon) float32 dask.array<shape=(240, 154, 136), chunksize=(240, 154, 136)>\n",
       "Attributes:\n",
       "    Conventions:   CF-1.5,ACDD-1.3\n",
       "    institution:   Australian Bureau of Meteorology\n",
       "    source:        APS2\n",
       "    date_created:  20190621\n",
       "    summary:       forecast data\n",
       "    title:         forecast data\n",
       "    base_date:     20190621\n",
       "    base_time:     1200\n",
       "    modl_vrsn:     ACCESS-G\n",
       "    expt_id:       0001"
      ]
     },
     "execution_count": 4,
     "metadata": {},
     "output_type": "execute_result"
    }
   ],
   "source": [
    "data"
   ]
  },
  {
   "cell_type": "code",
   "execution_count": 5,
   "metadata": {},
   "outputs": [
    {
     "data": {
      "text/plain": [
       "(-45.0, -9.140625, 110.03906, 157.5)"
      ]
     },
     "execution_count": 5,
     "metadata": {},
     "output_type": "execute_result"
    }
   ],
   "source": [
    "min(data.lat.values), max(data.lat.values), min(data.lon.values), max(data.lon.values)"
   ]
  },
  {
   "cell_type": "code",
   "execution_count": 6,
   "metadata": {},
   "outputs": [
    {
     "data": {
      "text/plain": [
       "array([ -9.140625,  -9.375   ,  -9.609375,  -9.84375 , -10.078125,\n",
       "       -10.3125  , -10.546875, -10.78125 , -11.015625, -11.25    ,\n",
       "       -11.484375, -11.71875 , -11.953125, -12.1875  , -12.421875,\n",
       "       -12.65625 , -12.890625, -13.125   , -13.359375, -13.59375 ,\n",
       "       -13.828125, -14.0625  , -14.296875, -14.53125 , -14.765625,\n",
       "       -15.      , -15.234375, -15.46875 , -15.703125, -15.9375  ,\n",
       "       -16.171875, -16.40625 , -16.640625, -16.875   , -17.109375,\n",
       "       -17.34375 , -17.578125, -17.8125  , -18.046875, -18.28125 ,\n",
       "       -18.515625, -18.75    , -18.984375, -19.21875 , -19.453125,\n",
       "       -19.6875  , -19.921875, -20.15625 , -20.390625, -20.625   ,\n",
       "       -20.859375, -21.09375 , -21.328125, -21.5625  , -21.796875,\n",
       "       -22.03125 , -22.265625, -22.5     , -22.734375, -22.96875 ,\n",
       "       -23.203125, -23.4375  , -23.671875, -23.90625 , -24.140625,\n",
       "       -24.375   , -24.609375, -24.84375 , -25.078125, -25.3125  ,\n",
       "       -25.546875, -25.78125 , -26.015625, -26.25    , -26.484375,\n",
       "       -26.71875 , -26.953125, -27.1875  , -27.421875, -27.65625 ,\n",
       "       -27.890625, -28.125   , -28.359375, -28.59375 , -28.828125,\n",
       "       -29.0625  , -29.296875, -29.53125 , -29.765625, -30.      ,\n",
       "       -30.234375, -30.46875 , -30.703125, -30.9375  , -31.171875,\n",
       "       -31.40625 , -31.640625, -31.875   , -32.109375, -32.34375 ,\n",
       "       -32.578125, -32.8125  , -33.046875, -33.28125 , -33.515625,\n",
       "       -33.75    , -33.984375, -34.21875 , -34.453125, -34.6875  ,\n",
       "       -34.921875, -35.15625 , -35.390625, -35.625   , -35.859375,\n",
       "       -36.09375 , -36.328125, -36.5625  , -36.796875, -37.03125 ,\n",
       "       -37.265625, -37.5     , -37.734375, -37.96875 , -38.203125,\n",
       "       -38.4375  , -38.671875, -38.90625 , -39.140625, -39.375   ,\n",
       "       -39.609375, -39.84375 , -40.078125, -40.3125  , -40.546875,\n",
       "       -40.78125 , -41.015625, -41.25    , -41.484375, -41.71875 ,\n",
       "       -41.953125, -42.1875  , -42.421875, -42.65625 , -42.890625,\n",
       "       -43.125   , -43.359375, -43.59375 , -43.828125, -44.0625  ,\n",
       "       -44.296875, -44.53125 , -44.765625, -45.      ], dtype=float32)"
      ]
     },
     "execution_count": 6,
     "metadata": {},
     "output_type": "execute_result"
    }
   ],
   "source": [
    "data.lat.values"
   ]
  },
  {
   "cell_type": "code",
   "execution_count": 13,
   "metadata": {},
   "outputs": [],
   "source": [
    "from geopy import distance\n",
    "\n",
    "def geographical_dist(coord1, coord2):\n",
    "    return distance.distance(coord1, coord2)"
   ]
  },
  {
   "cell_type": "code",
   "execution_count": 16,
   "metadata": {},
   "outputs": [
    {
     "name": "stdout",
     "output_type": "stream",
     "text": [
      "25.922582980057577 km\n",
      "38.64205252858072 km\n"
     ]
    }
   ],
   "source": [
    "point1 = data.lat.values[0], data.lon.values[0]\n",
    "point2 = data.lat.values[1], data.lon.values[0]\n",
    "point3 = data.lat.values[0], data.lon.values[0]\n",
    "point4 = data.lat.values[0], data.lon.values[1]\n",
    "\n",
    "print(geographical_dist(point1, point2))\n",
    "print(geographical_dist(point3, point4))"
   ]
  },
  {
   "cell_type": "code",
   "execution_count": 17,
   "metadata": {},
   "outputs": [
    {
     "name": "stdout",
     "output_type": "stream",
     "text": [
      "26.045973604302848 km\n",
      "27.719568720395145 km\n"
     ]
    }
   ],
   "source": [
    "point1 = data.lat.values[-1], data.lon.values[-1]\n",
    "point2 = data.lat.values[-2], data.lon.values[-1]\n",
    "point3 = data.lat.values[-1], data.lon.values[-1]\n",
    "point4 = data.lat.values[-1], data.lon.values[-2]\n",
    "\n",
    "print(geographical_dist(point1, point2))\n",
    "print(geographical_dist(point3, point4))"
   ]
  },
  {
   "cell_type": "code",
   "execution_count": 18,
   "metadata": {},
   "outputs": [
    {
     "data": {
      "text/plain": [
       "(1001.7018131918774, 721.9831552140708)"
      ]
     },
     "execution_count": 18,
     "metadata": {},
     "output_type": "execute_result"
    }
   ],
   "source": [
    "25.922582980057577 * 38.64205252858072, 26.045973604302848 * 27.719568720395145"
   ]
  },
  {
   "cell_type": "code",
   "execution_count": null,
   "metadata": {},
   "outputs": [],
   "source": []
  }
 ],
 "metadata": {
  "kernelspec": {
   "display_name": "Python 3",
   "language": "python",
   "name": "python3"
  },
  "language_info": {
   "codemirror_mode": {
    "name": "ipython",
    "version": 3
   },
   "file_extension": ".py",
   "mimetype": "text/x-python",
   "name": "python",
   "nbconvert_exporter": "python",
   "pygments_lexer": "ipython3",
   "version": "3.6.8"
  }
 },
 "nbformat": 4,
 "nbformat_minor": 2
}
