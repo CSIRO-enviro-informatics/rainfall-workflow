{
 "cells": [
  {
   "cell_type": "markdown",
   "metadata": {},
   "source": [
    "# ACCESS-G Data Investigation"
   ]
  },
  {
   "cell_type": "code",
   "execution_count": 1,
   "metadata": {
    "scrolled": true
   },
   "outputs": [
    {
     "name": "stderr",
     "output_type": "stream",
     "text": [
      "C:\\Users\\AND522\\AppData\\Local\\Continuum\\anaconda3\\lib\\site-packages\\dask\\config.py:168: YAMLLoadWarning: calling yaml.load() without Loader=... is deprecated, as the default Loader is unsafe. Please read https://msg.pyyaml.org/load for full details.\n",
      "  data = yaml.load(f.read()) or {}\n",
      "C:\\Users\\AND522\\AppData\\Local\\Continuum\\anaconda3\\lib\\site-packages\\distributed\\config.py:20: YAMLLoadWarning: calling yaml.load() without Loader=... is deprecated, as the default Loader is unsafe. Please read https://msg.pyyaml.org/load for full details.\n",
      "  defaults = yaml.load(f)\n"
     ]
    }
   ],
   "source": [
    "import xarray as xr\n",
    "import numpy as np\n",
    "import pandas as pd\n",
    "import matplotlib.pyplot as plt"
   ]
  },
  {
   "cell_type": "code",
   "execution_count": 78,
   "metadata": {},
   "outputs": [],
   "source": [
    "file_path = '\\\\\\\\osm-12-cdc.it.csiro.au\\\\OSM_CBR_LW_SATSOILMOIST_source\\\\BOM-ACCESS-G\\\\ACCESS_G_00z\\\\2016\\\\'\n",
    "file_name = 'ACCESS_G_accum_prcp_fc_2016031600.nc'"
   ]
  },
  {
   "cell_type": "code",
   "execution_count": 79,
   "metadata": {},
   "outputs": [],
   "source": [
    "data = xr.open_mfdataset(file_path+file_name)"
   ]
  },
  {
   "cell_type": "code",
   "execution_count": 80,
   "metadata": {
    "scrolled": false
   },
   "outputs": [
    {
     "data": {
      "text/plain": [
       "<xarray.Dataset>\n",
       "Dimensions:       (lat: 154, lon: 137, time: 240)\n",
       "Coordinates:\n",
       "  * lat           (lat) float32 -9.140625 -9.375 -9.609375 ... -44.765625 -45.0\n",
       "  * lon           (lon) float32 110.03906 110.390625 ... 157.5 157.85156\n",
       "  * time          (time) datetime64[ns] 2016-03-16T01:00:00 ... 2016-03-26\n",
       "Data variables:\n",
       "    accum_prcp    (time, lat, lon) float32 dask.array<shape=(240, 154, 137), chunksize=(240, 154, 137)>\n",
       "    base_date     (time) int32 dask.array<shape=(240,), chunksize=(240,)>\n",
       "    base_time     (time) int32 dask.array<shape=(240,), chunksize=(240,)>\n",
       "    forc_minutes  (time) timedelta64[ns] dask.array<shape=(240,), chunksize=(240,)>\n",
       "    seg_type      (time) |S4 dask.array<shape=(240,), chunksize=(240,)>\n",
       "    valid_date    (time) int32 dask.array<shape=(240,), chunksize=(240,)>\n",
       "    valid_time    (time) int32 dask.array<shape=(240,), chunksize=(240,)>\n",
       "    wrtn_date     (time) int32 dask.array<shape=(240,), chunksize=(240,)>\n",
       "    wrtn_time     (time) int32 dask.array<shape=(240,), chunksize=(240,)>\n",
       "Attributes:\n",
       "    Conventions:   CF-1.5,ACDD-1.3\n",
       "    institution:   Australian Bureau of Meteorology\n",
       "    source:        APS2\n",
       "    date_created:  20170518\n",
       "    summary:       forecast data\n",
       "    title:         forecast data\n",
       "    base_date:     20160316\n",
       "    base_time:     0\n",
       "    modl_vrsn:     ACCESS-G\n",
       "    expt_id:       0001\n",
       "    history:       Wed Aug 22 13:11:11 2018: ncks -d lon,110.0,158.0 -d lat,-...\n",
       "    NCO:           \"4.6.1\""
      ]
     },
     "execution_count": 80,
     "metadata": {},
     "output_type": "execute_result"
    }
   ],
   "source": [
    "data"
   ]
  },
  {
   "cell_type": "code",
   "execution_count": 84,
   "metadata": {},
   "outputs": [
    {
     "data": {
      "text/plain": [
       "(<function ndarray.min>, <function ndarray.max>)"
      ]
     },
     "execution_count": 84,
     "metadata": {},
     "output_type": "execute_result"
    }
   ],
   "source": [
    "data.lat.values.min, data.lat.values.max"
   ]
  },
  {
   "cell_type": "code",
   "execution_count": null,
   "metadata": {},
   "outputs": [],
   "source": []
  }
 ],
 "metadata": {
  "kernelspec": {
   "display_name": "Python 3",
   "language": "python",
   "name": "python3"
  },
  "language_info": {
   "codemirror_mode": {
    "name": "ipython",
    "version": 3
   },
   "file_extension": ".py",
   "mimetype": "text/x-python",
   "name": "python",
   "nbconvert_exporter": "python",
   "pygments_lexer": "ipython3",
   "version": "3.6.8"
  }
 },
 "nbformat": 4,
 "nbformat_minor": 2
}
