{
 "cells": [
  {
   "attachments": {},
   "cell_type": "markdown",
   "metadata": {},
   "source": [
    "# ACCESS-G Data Investigation\n",
    "\n",
    "Having downloaded some recent ACCESS-G data from NCI, it now needs to be investigated to determine how much of it should be regularly downloaded and saved internally to \n",
    "\\\\osm-12-cdc.it.csiro.au\\OSM_CBR_LW_SATSOILMOIST_source\\BOM-ACCESS-G\\ACCESS_G_00z\\2019.\n",
    "\n",
    "Four measurements throughout the day: 0000, 0600, 1200, 1800.\n",
    "\n",
    "Does the accum_prcp variable describe accumulated precipitation collectively, over the day, or since the last time measurement?"
   ]
  },
  {
   "cell_type": "code",
   "execution_count": 1,
   "metadata": {},
   "outputs": [
    {
     "name": "stderr",
     "output_type": "stream",
     "text": [
      "C:\\Users\\AND522\\AppData\\Local\\Continuum\\anaconda3\\lib\\site-packages\\dask\\config.py:168: YAMLLoadWarning: calling yaml.load() without Loader=... is deprecated, as the default Loader is unsafe. Please read https://msg.pyyaml.org/load for full details.\n",
      "  data = yaml.load(f.read()) or {}\n",
      "C:\\Users\\AND522\\AppData\\Local\\Continuum\\anaconda3\\lib\\site-packages\\distributed\\config.py:20: YAMLLoadWarning: calling yaml.load() without Loader=... is deprecated, as the default Loader is unsafe. Please read https://msg.pyyaml.org/load for full details.\n",
      "  defaults = yaml.load(f)\n"
     ]
    }
   ],
   "source": [
    "import xarray as xr\n",
    "import numpy as np\n",
    "import pandas as pd\n",
    "import matplotlib.pyplot as plt"
   ]
  },
  {
   "cell_type": "code",
   "execution_count": 2,
   "metadata": {},
   "outputs": [],
   "source": [
    "file_path = 'C:\\\\Users\\\\AND522\\\\Documents\\\\'\n",
    "file_names = ['prevday1800', '0000', '0600', '1200']"
   ]
  },
  {
   "cell_type": "code",
   "execution_count": 4,
   "metadata": {},
   "outputs": [],
   "source": [
    "xarrays = []\n",
    "for each in file_names:\n",
    "    data = xr.open_mfdataset(file_path+each+'.nc')\n",
    "    xarrays.append(data)"
   ]
  },
  {
   "cell_type": "code",
   "execution_count": 7,
   "metadata": {},
   "outputs": [
    {
     "data": {
      "text/plain": [
       "<xarray.Dataset>\n",
       "Dimensions:       (lat: 769, lon: 1024, time: 240)\n",
       "Coordinates:\n",
       "  * time          (time) datetime64[ns] 2019-06-20T13:00:00 ... 2019-06-30T12:00:00\n",
       "  * lat           (lat) float32 90.0 89.765625 89.53125 ... -89.765625 -90.0\n",
       "  * lon           (lon) float32 0.0 0.3515625 0.703125 ... 359.29688 359.64844\n",
       "Data variables:\n",
       "    seg_type      (time) |S4 dask.array<shape=(240,), chunksize=(240,)>\n",
       "    base_date     (time) int32 dask.array<shape=(240,), chunksize=(240,)>\n",
       "    base_time     (time) int32 dask.array<shape=(240,), chunksize=(240,)>\n",
       "    valid_date    (time) int32 dask.array<shape=(240,), chunksize=(240,)>\n",
       "    valid_time    (time) int32 dask.array<shape=(240,), chunksize=(240,)>\n",
       "    forc_minutes  (time) timedelta64[ns] dask.array<shape=(240,), chunksize=(240,)>\n",
       "    wrtn_date     (time) int32 dask.array<shape=(240,), chunksize=(240,)>\n",
       "    wrtn_time     (time) int32 dask.array<shape=(240,), chunksize=(240,)>\n",
       "    accum_prcp    (time, lat, lon) float32 dask.array<shape=(240, 769, 1024), chunksize=(240, 769, 1024)>\n",
       "Attributes:\n",
       "    Conventions:   CF-1.5,ACDD-1.3\n",
       "    institution:   Australian Bureau of Meteorology\n",
       "    source:        APS2\n",
       "    date_created:  20190620\n",
       "    summary:       forecast data\n",
       "    title:         forecast data\n",
       "    base_date:     20190620\n",
       "    base_time:     1200\n",
       "    modl_vrsn:     ACCESS-G\n",
       "    expt_id:       0001"
      ]
     },
     "execution_count": 7,
     "metadata": {},
     "output_type": "execute_result"
    }
   ],
   "source": [
    "xarrays[-1]"
   ]
  },
  {
   "cell_type": "markdown",
   "metadata": {},
   "source": [
    "Get a sampling of the data, for the same geographical locations."
   ]
  },
  {
   "cell_type": "code",
   "execution_count": 34,
   "metadata": {},
   "outputs": [],
   "source": [
    "import random\n",
    "\n",
    "samples = []\n",
    "sample_size = 100\n",
    "random.seed(19)\n",
    "time = random.randint(0, 240)\n",
    "lats = [random.randint(0, 769) for x in range(sample_size)]\n",
    "longs = [random.randint(0, 1024) for x in range(sample_size)]\n",
    "\n",
    "for each in xarrays:\n",
    "    data = each.sel(time=time, method='nearest')\n",
    "    sample = [data.sel(lat=lats[i], lon=longs[i], method='nearest').accum_prcp for i in range(sample_size)]\n",
    "    samples.append(sample)"
   ]
  },
  {
   "cell_type": "markdown",
   "metadata": {},
   "source": [
    "Confirm that time samples have matching geographical coordinates."
   ]
  },
  {
   "cell_type": "code",
   "execution_count": 54,
   "metadata": {
    "scrolled": true
   },
   "outputs": [
    {
     "data": {
      "text/plain": [
       "(<xarray.DataArray 'accum_prcp' ()>\n",
       " dask.array<shape=(), dtype=float32, chunksize=()>\n",
       " Coordinates:\n",
       "     time     datetime64[ns] 2019-06-20T13:00:00\n",
       "     lat      float32 44.0625\n",
       "     lon      float32 359.64844\n",
       " Attributes:\n",
       "     grid_type:    spatial\n",
       "     level_type:   single\n",
       "     units:        kg m-2\n",
       "     long_name:    accumulated precipitation\n",
       "     stash_code:   5226\n",
       "     accum_type:   accumulative\n",
       "     accum_units:  hrs\n",
       "     accum_value:  4, <xarray.DataArray 'accum_prcp' ()>\n",
       " dask.array<shape=(), dtype=float32, chunksize=()>\n",
       " Coordinates:\n",
       "     time     datetime64[ns] 2019-06-20T07:00:00\n",
       "     lat      float32 44.0625\n",
       "     lon      float32 359.64844\n",
       " Attributes:\n",
       "     grid_type:    spatial\n",
       "     level_type:   single\n",
       "     units:        kg m-2\n",
       "     long_name:    accumulated precipitation\n",
       "     stash_code:   5226\n",
       "     accum_type:   accumulative\n",
       "     accum_units:  hrs\n",
       "     accum_value:  4, <xarray.DataArray 'accum_prcp' ()>\n",
       " dask.array<shape=(), dtype=float32, chunksize=()>\n",
       " Coordinates:\n",
       "     time     datetime64[ns] 2019-06-20T01:00:00\n",
       "     lat      float32 44.0625\n",
       "     lon      float32 359.64844\n",
       " Attributes:\n",
       "     grid_type:    spatial\n",
       "     level_type:   single\n",
       "     units:        kg m-2\n",
       "     long_name:    accumulated precipitation\n",
       "     stash_code:   5226\n",
       "     accum_type:   accumulative\n",
       "     accum_units:  hrs\n",
       "     accum_value:  4, <xarray.DataArray 'lat' ()>\n",
       " array(44.0625, dtype=float32)\n",
       " Coordinates:\n",
       "     time     datetime64[ns] 2019-06-19T19:00:00\n",
       "     lat      float32 44.0625\n",
       "     lon      float32 359.64844\n",
       " Attributes:\n",
       "     long_name:  latitudes\n",
       "     type:       uniform\n",
       "     units:      degrees_north\n",
       "     valid_min:  -90.0\n",
       "     valid_max:  90.0\n",
       "     axis:       Y)"
      ]
     },
     "execution_count": 54,
     "metadata": {},
     "output_type": "execute_result"
    }
   ],
   "source": [
    "samples[-1][0], samples[-2][0], samples[-3][0], samples[-4][0].lat"
   ]
  },
  {
   "cell_type": "code",
   "execution_count": 65,
   "metadata": {},
   "outputs": [
    {
     "data": {
      "text/plain": [
       "array(0.07524109)"
      ]
     },
     "execution_count": 65,
     "metadata": {},
     "output_type": "execute_result"
    }
   ],
   "source": [
    "samples[-1][0].values"
   ]
  },
  {
   "cell_type": "code",
   "execution_count": 66,
   "metadata": {},
   "outputs": [],
   "source": [
    "diff = [samples[-1][i].values - samples[-2][i].values for i in range(sample_size)]"
   ]
  },
  {
   "cell_type": "code",
   "execution_count": 67,
   "metadata": {
    "scrolled": true
   },
   "outputs": [
    {
     "name": "stdout",
     "output_type": "stream",
     "text": [
      "-0.020355224609375\n",
      "0.12628173828125\n",
      "0.12628173828125\n",
      "0.12628173828125\n",
      "0.12628173828125\n",
      "0.12628173828125\n",
      "0.12628173828125\n",
      "0.12628173828125\n",
      "0.12628173828125\n",
      "0.12628173828125\n",
      "0.12628173828125\n",
      "0.12628173828125\n",
      "0.12628173828125\n",
      "0.12628173828125\n",
      "0.12628173828125\n",
      "0.12628173828125\n",
      "0.12628173828125\n",
      "0.12628173828125\n",
      "0.12628173828125\n",
      "0.12628173828125\n",
      "0.12628173828125\n",
      "0.0\n",
      "0.12628173828125\n",
      "0.12628173828125\n",
      "0.12628173828125\n",
      "0.0004730224609375\n",
      "0.12628173828125\n",
      "0.12628173828125\n",
      "0.12628173828125\n",
      "0.12628173828125\n",
      "0.12628173828125\n",
      "0.12628173828125\n",
      "-1.3376388549804688\n",
      "0.12628173828125\n",
      "0.12628173828125\n",
      "-0.0002899169921875\n",
      "0.12628173828125\n",
      "0.12628173828125\n",
      "0.12628173828125\n",
      "0.12628173828125\n",
      "0.12628173828125\n",
      "0.12628173828125\n",
      "0.12628173828125\n",
      "0.12628173828125\n",
      "0.12628173828125\n",
      "0.12628173828125\n",
      "0.12628173828125\n",
      "0.12628173828125\n",
      "0.12628173828125\n",
      "0.12628173828125\n",
      "0.12628173828125\n",
      "0.12628173828125\n",
      "0.12628173828125\n",
      "0.12628173828125\n",
      "0.12628173828125\n",
      "0.12628173828125\n",
      "0.12628173828125\n",
      "0.12628173828125\n",
      "0.12628173828125\n",
      "0.12628173828125\n",
      "0.12628173828125\n",
      "0.12628173828125\n",
      "0.12628173828125\n",
      "0.12628173828125\n",
      "0.12628173828125\n",
      "0.703155517578125\n",
      "0.12628173828125\n",
      "0.12628173828125\n",
      "0.12628173828125\n",
      "0.12628173828125\n",
      "0.12628173828125\n",
      "0.12628173828125\n",
      "0.12628173828125\n",
      "0.12628173828125\n",
      "0.12628173828125\n",
      "0.12628173828125\n",
      "0.12628173828125\n",
      "0.12628173828125\n",
      "0.01019287109375\n",
      "0.12628173828125\n",
      "0.12628173828125\n",
      "0.0\n",
      "0.12628173828125\n",
      "0.12628173828125\n",
      "0.12628173828125\n",
      "0.12628173828125\n",
      "0.12628173828125\n",
      "0.12628173828125\n",
      "0.12628173828125\n",
      "0.12628173828125\n",
      "0.12628173828125\n",
      "0.12628173828125\n",
      "0.12628173828125\n",
      "0.12628173828125\n",
      "0.12628173828125\n",
      "0.12628173828125\n",
      "0.12628173828125\n",
      "0.12628173828125\n",
      "0.12628173828125\n",
      "0.12628173828125\n"
     ]
    }
   ],
   "source": [
    "for i in range(sample_size):\n",
    "    print(samples[-1][i].values - samples[-2][i].values )"
   ]
  },
  {
   "cell_type": "code",
   "execution_count": 68,
   "metadata": {},
   "outputs": [
    {
     "data": {
      "text/plain": [
       "[<matplotlib.lines.Line2D at 0x21c457045c0>]"
      ]
     },
     "execution_count": 68,
     "metadata": {},
     "output_type": "execute_result"
    },
    {
     "data": {
      "image/png": "[encoded data removed]",
      "text/plain": [
       "<Figure size 432x288 with 1 Axes>"
      ]
     },
     "metadata": {
      "needs_background": "light"
     },
     "output_type": "display_data"
    }
   ],
   "source": [
    "%matplotlib inline\n",
    "plt.plot(diff)"
   ]
  },
  {
   "cell_type": "markdown",
   "metadata": {},
   "source": [
    "This data confirms that precipitation in areas has not always increased, so the accumulated precipitation is taken per timestep."
   ]
  },
  {
   "cell_type": "code",
   "execution_count": 70,
   "metadata": {},
   "outputs": [
    {
     "data": {
      "text/plain": [
       "<matplotlib.legend.Legend at 0x21c457e7eb8>"
      ]
     },
     "execution_count": 70,
     "metadata": {},
     "output_type": "execute_result"
    },
    {
     "data": {
      "image/png": "[encoded data removed]",
      "text/plain": [
       "<Figure size 432x288 with 1 Axes>"
      ]
     },
     "metadata": {
      "needs_background": "light"
     },
     "output_type": "display_data"
    }
   ],
   "source": [
    "plt.plot(samples[0], label='prev day 1800')\n",
    "plt.plot(samples[1], label='0000')\n",
    "plt.plot(samples[2], label='0600')\n",
    "plt.plot(samples[3], label='1200')\n",
    "\n",
    "plt.legend()"
   ]
  },
  {
   "cell_type": "code",
   "execution_count": 75,
   "metadata": {
    "scrolled": true
   },
   "outputs": [
    {
     "name": "stdout",
     "output_type": "stream",
     "text": [
      "0.00612640380859375 0.13240814208984375\n"
     ]
    }
   ],
   "source": [
    "print(samples[2][50].values, samples[3][50].values)"
   ]
  },
  {
   "cell_type": "markdown",
   "metadata": {},
   "source": [
    "A comparison of ranfall in regions, at four points in the day. This chart does not show time series, it's not the best representation for the data. However, it shows an anomaly with the readings for 1200. For all other times, the base accumulated precipitation is 0, however for 1200 the baseline is slightly above this, and only reaches 0 in a few points. \n",
    "\n",
    "As it seems unlikely that almost every point in our sample which had 0 reported precipitation at all other hours, instead had 0.13 precipitation between 6-12, we have to ask: is this reading incorrect? If so, does it matter (to us)?"
   ]
  },
  {
   "cell_type": "code",
   "execution_count": null,
   "metadata": {},
   "outputs": [],
   "source": []
  }
 ],
 "metadata": {
  "kernelspec": {
   "display_name": "Python 3",
   "language": "python",
   "name": "python3"
  },
  "language_info": {
   "codemirror_mode": {
    "name": "ipython",
    "version": 3
   },
   "file_extension": ".py",
   "mimetype": "text/x-python",
   "name": "python",
   "nbconvert_exporter": "python",
   "pygments_lexer": "ipython3",
   "version": "3.6.8"
  }
 },
 "nbformat": 4,
 "nbformat_minor": 2
}
